{
 "cells": [
  {
   "cell_type": "code",
   "execution_count": 1,
   "metadata": {},
   "outputs": [],
   "source": [
    "import tensorflow as tf"
   ]
  },
  {
   "cell_type": "code",
   "execution_count": 2,
   "metadata": {},
   "outputs": [],
   "source": [
    "lm_hparams = tf.contrib.training.HParams(\n",
    "    num_phyche_features=7,\n",
    "    train_file=\"/home/dillon/data/cUR50/cUR50_train.tfrecords\",\n",
    "    batch_size=1,\n",
    "    num_epochs=1,\n",
    "    lm_kind=\"fw\",\n",
    "    model=\"lm\")\n",
    "bdrnn_hparams = tf.contrib.training.HParams(\n",
    "    num_phyche_features=7,\n",
    "    train_file=\"/home/dillon/data/cpdb2/cpdb_train.tfrecords\",\n",
    "    batch_size=1,\n",
    "    num_epochs=1,\n",
    "    model=\"bdrnn\")"
   ]
  },
  {
   "cell_type": "code",
   "execution_count": 3,
   "metadata": {},
   "outputs": [],
   "source": [
    "from lm_pretrain.dataset import create_dataset"
   ]
  },
  {
   "cell_type": "code",
   "execution_count": 4,
   "metadata": {},
   "outputs": [],
   "source": [
    "lm_fw_dataset = create_dataset(lm_hparams, tf.contrib.learn.ModeKeys.TRAIN)\n",
    "iterator = lm_fw_dataset.make_initializable_iterator()\n",
    "(_id, _len, _seq, _phyche, _), _tar = iterator.get_next()"
   ]
  },
  {
   "cell_type": "code",
   "execution_count": 5,
   "metadata": {},
   "outputs": [],
   "source": [
    "with tf.Session() as sess:\n",
    "    sess.run([tf.tables_initializer()])\n",
    "    sess.run([iterator.initializer])\n",
    "    id, len, seq, phyche, tar = sess.run([_id, _len, _seq, _phyche, _tar])"
   ]
  },
  {
   "cell_type": "code",
   "execution_count": 6,
   "metadata": {},
   "outputs": [
    {
     "name": "stdout",
     "output_type": "stream",
     "text": [
      "[[0. 0. 0. 0. 0. 0. 0. 0. 0. 0. 1. 0. 0. 0. 0. 0. 0. 0. 0. 0. 0. 0. 0.]\n",
      " [0. 0. 0. 0. 0. 0. 0. 0. 0. 0. 0. 0. 0. 0. 1. 0. 0. 0. 0. 0. 0. 0. 0.]\n",
      " [0. 0. 0. 0. 0. 1. 0. 0. 0. 0. 0. 0. 0. 0. 0. 0. 0. 0. 0. 0. 0. 0. 0.]\n",
      " [0. 1. 0. 0. 0. 0. 0. 0. 0. 0. 0. 0. 0. 0. 0. 0. 0. 0. 0. 0. 0. 0. 0.]\n",
      " [0. 0. 0. 0. 0. 0. 0. 0. 0. 1. 0. 0. 0. 0. 0. 0. 0. 0. 0. 0. 0. 0. 0.]]\n"
     ]
    }
   ],
   "source": [
    "print(seq[0, 0:5])"
   ]
  },
  {
   "cell_type": "code",
   "execution_count": 7,
   "metadata": {},
   "outputs": [
    {
     "name": "stdout",
     "output_type": "stream",
     "text": [
      "[[ 1.          0.74086356 -0.16368844 -0.12355296 -0.46572044  0.14045486\n",
      "   0.47695956]\n",
      " [ 2.         -1.3853817   2.6994333  -1.7888318  -1.0343896   0.13130471\n",
      "   1.1447029 ]\n",
      " [ 0.         -0.02325581  0.01882132  1.0582579   0.5147436  -2.0098314\n",
      "  -1.6216625 ]\n",
      " [ 1.          0.9401991  -0.5572251  -1.2516451   2.3187976  -0.39025408\n",
      "  -0.38156766]\n",
      " [ 1.          1.3720926  -0.00969583  0.95082057  0.4363065   0.36005855\n",
      "   0.19078383]]\n"
     ]
    }
   ],
   "source": [
    "print(phyche[0, 0:5])"
   ]
  },
  {
   "cell_type": "code",
   "execution_count": 8,
   "metadata": {},
   "outputs": [
    {
     "name": "stdout",
     "output_type": "stream",
     "text": [
      "[82]\n"
     ]
    }
   ],
   "source": [
    "print(len)"
   ]
  },
  {
   "cell_type": "code",
   "execution_count": 9,
   "metadata": {},
   "outputs": [],
   "source": [
    "bdrnn_dataset = create_dataset(bdrnn_hparams, tf.contrib.learn.ModeKeys.TRAIN)\n",
    "iterator2 = bdrnn_dataset.make_initializable_iterator()\n",
    "sample = iterator2.get_next()"
   ]
  },
  {
   "cell_type": "code",
   "execution_count": 11,
   "metadata": {},
   "outputs": [],
   "source": [
    "with tf.Session() as sess:\n",
    "    sess.run([tf.tables_initializer()])\n",
    "    sess.run([iterator2.initializer])\n",
    "    (id, len, seq, phyche, pssm), tar = sess.run(sample)"
   ]
  },
  {
   "cell_type": "code",
   "execution_count": 12,
   "metadata": {},
   "outputs": [
    {
     "name": "stdout",
     "output_type": "stream",
     "text": [
      "[359]\n"
     ]
    }
   ],
   "source": [
    "print(len)"
   ]
  },
  {
   "cell_type": "code",
   "execution_count": 13,
   "metadata": {},
   "outputs": [
    {
     "name": "stdout",
     "output_type": "stream",
     "text": [
      "[[0. 0. 0. 0. 0. 0. 0. 0. 0. 0. 0. 0. 0. 0. 0. 1. 0. 0. 0. 0. 0. 0. 0.]\n",
      " [0. 0. 0. 0. 0. 0. 0. 0. 0. 0. 0. 0. 1. 0. 0. 0. 0. 0. 0. 0. 0. 0. 0.]\n",
      " [0. 0. 0. 1. 0. 0. 0. 0. 0. 0. 0. 0. 0. 0. 0. 0. 0. 0. 0. 0. 0. 0. 0.]\n",
      " [0. 0. 0. 1. 0. 0. 0. 0. 0. 0. 0. 0. 0. 0. 0. 0. 0. 0. 0. 0. 0. 0. 0.]\n",
      " [0. 0. 0. 1. 0. 0. 0. 0. 0. 0. 0. 0. 0. 0. 0. 0. 0. 0. 0. 0. 0. 0. 0.]]\n"
     ]
    }
   ],
   "source": [
    "print(seq[0, 0:5])"
   ]
  },
  {
   "cell_type": "code",
   "execution_count": 14,
   "metadata": {},
   "outputs": [
    {
     "name": "stdout",
     "output_type": "stream",
     "text": [
      "[[0.7170753  0.09534947 0.159762   0.23685499 0.02209632 0.15187116\n",
      "  0.10812867 0.03106848 0.21416503 0.02819529 0.07516011 0.31216866\n",
      "  0.10433122 0.84290457 0.13470304 0.99477994 0.87435216 0.06660803\n",
      "  0.01746392 0.5        0.04787969]\n",
      " [0.1809388  0.0801729  0.0765622  0.15058757 0.77902615 0.08471056\n",
      "  0.7271082  0.13705128 0.25730947 0.36354747 0.12238888 0.39174098\n",
      "  0.9976941  0.8347951  0.09195455 0.22270013 0.27888483 0.117119\n",
      "  0.04608883 0.11920292 0.5670929 ]\n",
      " [0.41095954 0.0104567  0.38936076 0.9967956  0.00947104 0.05069032\n",
      "  0.2332589  0.01224884 0.876533   0.01582831 0.04031041 0.15446526\n",
      "  0.10156092 0.81757444 0.54983395 0.29943287 0.45016602 0.026597\n",
      "  0.01237041 0.26894143 0.03106848]\n",
      " [0.22097391 0.02508696 0.7595109  0.9677046  0.2650274  0.06122616\n",
      "  0.80533844 0.2158528  0.6659669  0.11405239 0.45760205 0.850687\n",
      "  0.24787088 0.9241418  0.3208213  0.40131235 0.50749946 0.09534947\n",
      "  0.7088902  0.26894143 0.11304584]\n",
      " [0.15446526 0.0114302  0.4750208  0.9916739  0.01200921 0.15842418\n",
      "  0.16110896 0.01378899 0.6899745  0.01477403 0.04148712 0.9381965\n",
      "  0.10621499 0.9483385  0.23685499 0.34073958 0.6984652  0.04608883\n",
      "  0.01338692 0.26894143 0.16520487]]\n"
     ]
    }
   ],
   "source": [
    "print(pssm[0, 0:5])"
   ]
  },
  {
   "cell_type": "code",
   "execution_count": 15,
   "metadata": {},
   "outputs": [
    {
     "name": "stdout",
     "output_type": "stream",
     "text": [
      "[[0. 0. 1. 0. 0. 0. 0. 0. 0. 0.]\n",
      " [1. 0. 0. 0. 0. 0. 0. 0. 0. 0.]\n",
      " [1. 0. 0. 0. 0. 0. 0. 0. 0. 0.]\n",
      " [1. 0. 0. 0. 0. 0. 0. 0. 0. 0.]\n",
      " [1. 0. 0. 0. 0. 0. 0. 0. 0. 0.]]\n"
     ]
    }
   ],
   "source": [
    "print(tar[0, 0:5])"
   ]
  },
  {
   "cell_type": "code",
   "execution_count": null,
   "metadata": {},
   "outputs": [],
   "source": []
  }
 ],
 "metadata": {
  "kernelspec": {
   "display_name": "Python 3",
   "language": "python",
   "name": "python3"
  },
  "language_info": {
   "codemirror_mode": {
    "name": "ipython",
    "version": 3
   },
   "file_extension": ".py",
   "mimetype": "text/x-python",
   "name": "python",
   "nbconvert_exporter": "python",
   "pygments_lexer": "ipython3",
   "version": "3.6.5"
  }
 },
 "nbformat": 4,
 "nbformat_minor": 2
}
