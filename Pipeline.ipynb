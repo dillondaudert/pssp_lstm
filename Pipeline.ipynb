{
 "cells": [
  {
   "cell_type": "code",
   "execution_count": 1,
   "metadata": {},
   "outputs": [],
   "source": [
    "import tensorflow as tf"
   ]
  },
  {
   "cell_type": "code",
   "execution_count": 2,
   "metadata": {},
   "outputs": [],
   "source": [
    "lm_hparams = tf.contrib.training.HParams(\n",
    "    num_phyche_features=7,\n",
    "    train_file=\"/home/dillon/data/cUR50/cUR50_train.tfrecords\",\n",
    "    batch_size=1,\n",
    "    num_epochs=1,\n",
    "    lm_kind=\"fw\",\n",
    "    model=\"lm\")\n",
    "bdrnn_hparams = tf.contrib.training.HParams(\n",
    "    num_phyche_features=7,\n",
    "    train_file=\"/home/dillon/data/cpdb2/cpdb_train.tfrecords\",\n",
    "    batch_size=1,\n",
    "    num_epochs=1,\n",
    "    model=\"bdrnn\")"
   ]
  },
  {
   "cell_type": "code",
   "execution_count": 3,
   "metadata": {},
   "outputs": [],
   "source": [
    "from lm_pretrain.dataset import create_dataset"
   ]
  },
  {
   "cell_type": "code",
   "execution_count": 4,
   "metadata": {},
   "outputs": [],
   "source": [
    "lm_fw_dataset = create_dataset(lm_hparams, tf.contrib.learn.ModeKeys.TRAIN)\n",
    "iterator = lm_fw_dataset.make_initializable_iterator()\n",
    "_id, _len, _seq, _phyche, _, _tar = iterator.get_next()"
   ]
  },
  {
   "cell_type": "code",
   "execution_count": 5,
   "metadata": {},
   "outputs": [],
   "source": [
    "with tf.Session() as sess:\n",
    "    sess.run([tf.tables_initializer()])\n",
    "    sess.run([iterator.initializer])\n",
    "    id, len, seq, phyche, tar = sess.run([_id, _len, _seq, _phyche, _tar])"
   ]
  },
  {
   "cell_type": "code",
   "execution_count": 6,
   "metadata": {},
   "outputs": [
    {
     "name": "stdout",
     "output_type": "stream",
     "text": [
      "[[0. 0. 0. 0. 0. 0. 0. 0. 0. 0. 1. 0. 0. 0. 0. 0. 0. 0. 0. 0. 0. 0. 0.]\n",
      " [0. 0. 0. 1. 0. 0. 0. 0. 0. 0. 0. 0. 0. 0. 0. 0. 0. 0. 0. 0. 0. 0. 0.]\n",
      " [1. 0. 0. 0. 0. 0. 0. 0. 0. 0. 0. 0. 0. 0. 0. 0. 0. 0. 0. 0. 0. 0. 0.]\n",
      " [0. 0. 0. 0. 0. 0. 0. 0. 0. 0. 0. 0. 0. 0. 0. 0. 0. 1. 0. 0. 0. 0. 0.]\n",
      " [0. 0. 0. 0. 0. 0. 0. 0. 0. 1. 0. 0. 0. 0. 0. 0. 0. 0. 0. 0. 0. 0. 0.]]\n"
     ]
    }
   ],
   "source": [
    "print(seq[0, 0:5])"
   ]
  },
  {
   "cell_type": "code",
   "execution_count": 7,
   "metadata": {},
   "outputs": [
    {
     "name": "stdout",
     "output_type": "stream",
     "text": [
      "[[ 1.          0.74086356 -0.16368844 -0.12355296 -0.46572044  0.14045486\n",
      "   0.47695956]\n",
      " [ 2.         -1.0531559  -1.6408768  -0.28470898 -0.09314409 -2.0098314\n",
      "  -0.19078383]\n",
      " [ 0.          0.707641   -0.00969583  1.0582579   0.6912272  -0.8386116\n",
      "  -1.1447029 ]\n",
      " [ 1.          1.504983   -0.01539926  1.2731326   0.4363065   1.3482752\n",
      "  -0.28617573]\n",
      " [ 1.          1.3720926  -0.00969583  0.95082057  0.4363065   0.36005855\n",
      "   0.19078383]]\n"
     ]
    }
   ],
   "source": [
    "print(phyche[0, 0:5])"
   ]
  },
  {
   "cell_type": "code",
   "execution_count": 8,
   "metadata": {},
   "outputs": [
    {
     "name": "stdout",
     "output_type": "stream",
     "text": [
      "[269]\n"
     ]
    }
   ],
   "source": [
    "print(len)"
   ]
  },
  {
   "cell_type": "code",
   "execution_count": 9,
   "metadata": {},
   "outputs": [],
   "source": [
    "bdrnn_dataset = create_dataset(bdrnn_hparams, tf.contrib.learn.ModeKeys.TRAIN)\n",
    "iterator2 = bdrnn_dataset.make_initializable_iterator()\n",
    "sample = iterator2.get_next()"
   ]
  },
  {
   "cell_type": "code",
   "execution_count": 10,
   "metadata": {},
   "outputs": [],
   "source": [
    "with tf.Session() as sess:\n",
    "    sess.run([tf.tables_initializer()])\n",
    "    sess.run([iterator2.initializer])\n",
    "    id, len, seq, phyche, pssm, tar = sess.run(sample)"
   ]
  },
  {
   "cell_type": "code",
   "execution_count": 11,
   "metadata": {},
   "outputs": [
    {
     "name": "stdout",
     "output_type": "stream",
     "text": [
      "[501]\n"
     ]
    }
   ],
   "source": [
    "print(len)"
   ]
  },
  {
   "cell_type": "code",
   "execution_count": 12,
   "metadata": {},
   "outputs": [
    {
     "name": "stdout",
     "output_type": "stream",
     "text": [
      "[[0. 0. 0. 0. 0. 0. 0. 0. 0. 0. 1. 0. 0. 0. 0. 0. 0. 0. 0. 0. 0. 0. 0.]\n",
      " [0. 0. 0. 0. 0. 0. 0. 0. 0. 0. 0. 1. 0. 0. 0. 0. 0. 0. 0. 0. 0. 0. 0.]\n",
      " [0. 0. 0. 0. 0. 0. 0. 0. 0. 0. 0. 0. 0. 0. 0. 0. 0. 1. 0. 0. 0. 0. 0.]\n",
      " [0. 0. 0. 0. 0. 0. 0. 1. 0. 0. 0. 0. 0. 0. 0. 0. 0. 0. 0. 0. 0. 0. 0.]\n",
      " [0. 0. 0. 0. 0. 0. 0. 0. 0. 1. 0. 0. 0. 0. 0. 0. 0. 0. 0. 0. 0. 0. 0.]]\n"
     ]
    }
   ],
   "source": [
    "print(seq[0, 0:5])"
   ]
  },
  {
   "cell_type": "code",
   "execution_count": 13,
   "metadata": {},
   "outputs": [
    {
     "name": "stdout",
     "output_type": "stream",
     "text": [
      "[[0.05069032 0.03106848 0.00527231 0.0163025  0.13124447 0.00784502\n",
      "  0.02608408 0.4304538  0.03229546 0.61774784 0.99994886 0.01378899\n",
      "  0.00985375 0.08317269 0.03167623 0.02819529 0.06660803 0.24601129\n",
      "  0.03017798 0.26894143 0.04787969]\n",
      " [0.05166143 0.00532502 0.7595109  0.6921095  0.00415202 0.07798824\n",
      "  0.3078905  0.00570892 0.99685884 0.00689527 0.02366058 0.73885\n",
      "  0.07798824 0.9556382  0.32959884 0.58419055 0.08948006 0.01177421\n",
      "  0.00486893 0.26894143 0.01567329]\n",
      " [0.00800223 0.00892442 0.00150118 0.00407014 0.98964626 0.00162601\n",
      "  0.13470304 0.0198403  0.00532502 0.22443599 0.02508696 0.00383402\n",
      "  0.0017437  0.00724624 0.02685712 0.00636851 0.01131776 0.10065208\n",
      "  0.23685499 0.26894143 0.9998703 ]\n",
      " [0.04109127 0.02484354 0.00259907 0.00368424 0.04742587 0.0019076\n",
      "  0.00257327 0.99795437 0.00543201 0.38936076 0.3941263  0.00284314\n",
      "  0.00482072 0.00543201 0.00407014 0.00892442 0.04742587 0.99363154\n",
      "  0.00445173 0.26894143 0.01945508]\n",
      " [0.63645256 0.03324631 0.00792324 0.01274235 0.08786392 0.887953\n",
      "  0.01261716 0.7026606  0.02043219 0.9736607  0.9955923  0.01434366\n",
      "  0.01165842 0.02819529 0.01712403 0.03992533 0.05365666 0.59868765\n",
      "  0.01816369 0.26894143 0.03106848]]\n"
     ]
    }
   ],
   "source": [
    "print(pssm[0, 0:5])"
   ]
  },
  {
   "cell_type": "code",
   "execution_count": 14,
   "metadata": {},
   "outputs": [
    {
     "name": "stdout",
     "output_type": "stream",
     "text": [
      "[[0. 0. 1. 0. 0. 0. 0. 0. 0. 0.]\n",
      " [0. 1. 0. 0. 0. 0. 0. 0. 0. 0.]\n",
      " [0. 1. 0. 0. 0. 0. 0. 0. 0. 0.]\n",
      " [0. 1. 0. 0. 0. 0. 0. 0. 0. 0.]\n",
      " [0. 1. 0. 0. 0. 0. 0. 0. 0. 0.]]\n"
     ]
    }
   ],
   "source": [
    "print(tar[0, 0:5])"
   ]
  },
  {
   "cell_type": "code",
   "execution_count": null,
   "metadata": {},
   "outputs": [],
   "source": []
  }
 ],
 "metadata": {
  "kernelspec": {
   "display_name": "Python 3",
   "language": "python",
   "name": "python3"
  },
  "language_info": {
   "codemirror_mode": {
    "name": "ipython",
    "version": 3
   },
   "file_extension": ".py",
   "mimetype": "text/x-python",
   "name": "python",
   "nbconvert_exporter": "python",
   "pygments_lexer": "ipython3",
   "version": "3.6.5"
  }
 },
 "nbformat": 4,
 "nbformat_minor": 2
}
