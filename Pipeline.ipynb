{
 "cells": [
  {
   "cell_type": "code",
   "execution_count": null,
   "metadata": {},
   "outputs": [],
   "source": [
    "import tensorflow as tf"
   ]
  },
  {
   "cell_type": "code",
   "execution_count": null,
   "metadata": {},
   "outputs": [],
   "source": [
    "lm_hparams = tf.contrib.training.HParams(\n",
    "    num_phyche_features=7,\n",
    "    train_file=\"/home/dillon/data/cUR50/cUR50_train.tfrecords\",\n",
    "    batch_size=1,\n",
    "    num_epochs=1,\n",
    "    lm_kind=\"fw\",\n",
    "    model=\"lm\")\n",
    "bdrnn_hparams = tf.contrib.training.HParams(\n",
    "    num_phyche_features=7,\n",
    "    train_file=\"/home/dillon/data/cpdb2/cpdb_train.tfrecords\",\n",
    "    batch_size=1,\n",
    "    num_epochs=1,\n",
    "    model=\"bdrnn\")"
   ]
  },
  {
   "cell_type": "code",
   "execution_count": null,
   "metadata": {},
   "outputs": [],
   "source": [
    "from lm_pretrain.dataset import create_dataset"
   ]
  },
  {
   "cell_type": "code",
   "execution_count": null,
   "metadata": {},
   "outputs": [],
   "source": [
    "lm_fw_dataset = create_dataset(lm_hparams, tf.contrib.learn.ModeKeys.EVAL)\n",
    "iterator = lm_fw_dataset.make_initializable_iterator()\n",
    "(_id, _len, _seq, _phyche, _), _tar = iterator.get_next()"
   ]
  },
  {
   "cell_type": "code",
   "execution_count": null,
   "metadata": {},
   "outputs": [],
   "source": [
    "with tf.Session() as sess:\n",
    "    sess.run([tf.tables_initializer()])\n",
    "    sess.run([iterator.initializer])\n",
    "    id, len, seq, phyche, tar = sess.run([_id, _len, _seq, _phyche, _tar])"
   ]
  },
  {
   "cell_type": "code",
   "execution_count": null,
   "metadata": {},
   "outputs": [],
   "source": [
    "print(seq[0, 0:5])"
   ]
  },
  {
   "cell_type": "code",
   "execution_count": null,
   "metadata": {},
   "outputs": [],
   "source": [
    "print(phyche[0, 0:5])"
   ]
  },
  {
   "cell_type": "code",
   "execution_count": null,
   "metadata": {},
   "outputs": [],
   "source": [
    "print(len)"
   ]
  },
  {
   "cell_type": "code",
   "execution_count": null,
   "metadata": {},
   "outputs": [],
   "source": [
    "bdrnn_dataset = create_dataset(bdrnn_hparams, tf.contrib.learn.ModeKeys.TRAIN)\n",
    "iterator2 = bdrnn_dataset.make_initializable_iterator()\n",
    "sample = iterator2.get_next()"
   ]
  },
  {
   "cell_type": "code",
   "execution_count": null,
   "metadata": {},
   "outputs": [],
   "source": [
    "with tf.Session() as sess:\n",
    "    sess.run([tf.tables_initializer()])\n",
    "    sess.run([iterator2.initializer])\n",
    "    (id, len, seq, phyche, pssm), tar = sess.run(sample)"
   ]
  },
  {
   "cell_type": "code",
   "execution_count": null,
   "metadata": {},
   "outputs": [],
   "source": [
    "print(len)"
   ]
  },
  {
   "cell_type": "code",
   "execution_count": null,
   "metadata": {},
   "outputs": [],
   "source": [
    "print(seq[0, 0:5])"
   ]
  },
  {
   "cell_type": "code",
   "execution_count": null,
   "metadata": {},
   "outputs": [],
   "source": [
    "print(pssm[0, 0:5])"
   ]
  },
  {
   "cell_type": "code",
   "execution_count": null,
   "metadata": {},
   "outputs": [],
   "source": [
    "print(tar[0, 0:5])"
   ]
  },
  {
   "cell_type": "code",
   "execution_count": null,
   "metadata": {},
   "outputs": [],
   "source": []
  }
 ],
 "metadata": {
  "kernelspec": {
   "display_name": "Python 3",
   "language": "python",
   "name": "python3"
  },
  "language_info": {
   "codemirror_mode": {
    "name": "ipython",
    "version": 3
   },
   "file_extension": ".py",
   "mimetype": "text/x-python",
   "name": "python",
   "nbconvert_exporter": "python",
   "pygments_lexer": "ipython3",
   "version": "3.6.5"
  }
 },
 "nbformat": 4,
 "nbformat_minor": 2
}
