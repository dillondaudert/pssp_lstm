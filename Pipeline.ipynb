{
 "cells": [
  {
   "cell_type": "code",
   "execution_count": 1,
   "metadata": {},
   "outputs": [],
   "source": [
    "import tensorflow as tf\n",
    "from lm_pretrain.dataset import create_dataset\n",
    "from lm_pretrain.lookup import create_lookup_table\n",
    "from lm_pretrain.keras_model import create_models"
   ]
  },
  {
   "cell_type": "code",
   "execution_count": 2,
   "metadata": {},
   "outputs": [],
   "source": [
    "bdrnn_hparams = tf.contrib.training.HParams(\n",
    "    num_phyche_features=7,\n",
    "    train_file=\"/home/dillon/data/cpdb2/cpdb_train.tfrecords\",\n",
    "    valid_file=\"/home/dillon/data/cpdb2/cpdb_valid.tfrecords\",\n",
    "    batch_size=100,\n",
    "    num_epochs=10,\n",
    "    num_layers=1,\n",
    "    num_units=200,\n",
    "    steps_per_epoch=50,\n",
    "    validation_steps=10,\n",
    "    lm_num_layers=2,\n",
    "    lm_num_units=100,\n",
    "    model=\"bdrnn\")"
   ]
  },
  {
   "cell_type": "code",
   "execution_count": 3,
   "metadata": {},
   "outputs": [],
   "source": [
    "bdrnn_hparams.prot_lookup_table = create_lookup_table(\"prot\")\n",
    "bdrnn_hparams.struct_lookup_table = create_lookup_table(\"struct\")"
   ]
  },
  {
   "cell_type": "code",
   "execution_count": 4,
   "metadata": {},
   "outputs": [],
   "source": [
    "bdrnn_dataset = create_dataset(bdrnn_hparams, tf.contrib.learn.ModeKeys.TRAIN)\n",
    "bdrnn_dataset2 = create_dataset(bdrnn_hparams, tf.contrib.learn.ModeKeys.EVAL)"
   ]
  },
  {
   "cell_type": "code",
   "execution_count": 5,
   "metadata": {},
   "outputs": [],
   "source": [
    "sess = tf.Session()"
   ]
  },
  {
   "cell_type": "code",
   "execution_count": 6,
   "metadata": {},
   "outputs": [
    {
     "data": {
      "text/plain": [
       "[None]"
      ]
     },
     "execution_count": 6,
     "metadata": {},
     "output_type": "execute_result"
    }
   ],
   "source": [
    "sess.run([tf.tables_initializer()])"
   ]
  },
  {
   "cell_type": "code",
   "execution_count": 7,
   "metadata": {},
   "outputs": [],
   "source": [
    "tf.keras.backend.set_session(sess)"
   ]
  },
  {
   "cell_type": "code",
   "execution_count": 10,
   "metadata": {},
   "outputs": [],
   "source": [
    "model = create_models(bdrnn_hparams)[\"bdrnn\"]"
   ]
  },
  {
   "cell_type": "code",
   "execution_count": 11,
   "metadata": {},
   "outputs": [
    {
     "name": "stdout",
     "output_type": "stream",
     "text": [
      "__________________________________________________________________________________________________\n",
      "Layer (type)                    Output Shape         Param #     Connected to                     \n",
      "==================================================================================================\n",
      "input_8 (InputLayer)            (None, None, 23)     0                                            \n",
      "__________________________________________________________________________________________________\n",
      "masking_3 (Masking)             (None, None, 23)     0           input_8[0][0]                    \n",
      "__________________________________________________________________________________________________\n",
      "input_9 (InputLayer)            (None, None, 7)      0                                            \n",
      "__________________________________________________________________________________________________\n",
      "embed (Dense)                   (None, None, 10)     230         masking_3[0][0]                  \n",
      "__________________________________________________________________________________________________\n",
      "masking_4 (Masking)             (None, None, 7)      0           input_9[0][0]                    \n",
      "__________________________________________________________________________________________________\n",
      "concatenate_2 (Concatenate)     (None, None, 17)     0           embed[0][0]                      \n",
      "                                                                 masking_4[0][0]                  \n",
      "__________________________________________________________________________________________________\n",
      "bidirectional_2 (Bidirectional) (None, None, 200)    255200      concatenate_2[0][0]              \n",
      "__________________________________________________________________________________________________\n",
      "input_10 (InputLayer)           (None, None, 21)     0                                            \n",
      "__________________________________________________________________________________________________\n",
      "lm_dense1 (Dense)               (None, None, 200)    40200       bidirectional_2[0][0]            \n",
      "__________________________________________________________________________________________________\n",
      "masking_5 (Masking)             (None, None, 21)     0           input_10[0][0]                   \n",
      "__________________________________________________________________________________________________\n",
      "lm_dense2 (Dense)               (None, None, 100)    20100       lm_dense1[0][0]                  \n",
      "__________________________________________________________________________________________________\n",
      "concatenate_3 (Concatenate)     (None, None, 131)    0           embed[0][0]                      \n",
      "                                                                 masking_5[0][0]                  \n",
      "                                                                 lm_dense2[0][0]                  \n",
      "__________________________________________________________________________________________________\n",
      "bidirectional_3 (Bidirectional) (None, None, 400)    531200      concatenate_3[0][0]              \n",
      "__________________________________________________________________________________________________\n",
      "dense_3 (Dense)                 (None, None, 100)    40100       bidirectional_3[0][0]            \n",
      "__________________________________________________________________________________________________\n",
      "dense_4 (Dense)                 (None, None, 50)     5050        dense_3[0][0]                    \n",
      "__________________________________________________________________________________________________\n",
      "dense_5 (Dense)                 (None, None, 10)     510         dense_4[0][0]                    \n",
      "==================================================================================================\n",
      "Total params: 892,590\n",
      "Trainable params: 892,590\n",
      "Non-trainable params: 0\n",
      "__________________________________________________________________________________________________\n",
      "None\n"
     ]
    }
   ],
   "source": [
    "print(model.summary())"
   ]
  },
  {
   "cell_type": "code",
   "execution_count": null,
   "metadata": {},
   "outputs": [],
   "source": []
  },
  {
   "cell_type": "code",
   "execution_count": 12,
   "metadata": {},
   "outputs": [],
   "source": [
    "model.compile(optimizer=\"rmsprop\", loss=\"categorical_crossentropy\", metrics=[\"accuracy\"])"
   ]
  },
  {
   "cell_type": "code",
   "execution_count": null,
   "metadata": {},
   "outputs": [],
   "source": [
    "model.fit(x=bdrnn_dataset, epochs=5, steps_per_epoch=100, validation_data=bdrnn_dataset2, validation_steps=10)"
   ]
  },
  {
   "cell_type": "code",
   "execution_count": null,
   "metadata": {},
   "outputs": [],
   "source": []
  }
 ],
 "metadata": {
  "kernelspec": {
   "display_name": "Python 3",
   "language": "python",
   "name": "python3"
  },
  "language_info": {
   "codemirror_mode": {
    "name": "ipython",
    "version": 3
   },
   "file_extension": ".py",
   "mimetype": "text/x-python",
   "name": "python",
   "nbconvert_exporter": "python",
   "pygments_lexer": "ipython3",
   "version": "3.6.5"
  }
 },
 "nbformat": 4,
 "nbformat_minor": 2
}
