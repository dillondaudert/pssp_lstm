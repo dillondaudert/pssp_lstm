{
 "cells": [
  {
   "cell_type": "code",
   "execution_count": null,
   "metadata": {},
   "outputs": [],
   "source": [
    "import tensorflow as tf"
   ]
  },
  {
   "cell_type": "code",
   "execution_count": null,
   "metadata": {},
   "outputs": [],
   "source": [
    "lm_hparams = tf.contrib.training.HParams(\n",
    "    num_phyche_features=7,\n",
    "    train_file=\"/home/dillon/data/cUR50/cUR50_train.tfrecords\",\n",
    "    batch_size=1,\n",
    "    num_epochs=1,\n",
    "    lm_kind=\"fw\",\n",
    "    model=\"lm\")\n",
    "bdrnn_hparams = tf.contrib.training.HParams(\n",
    "    num_phyche_feature=7,\n",
    "    train_file=\"/home/dillon/data/cpdb2/cpdb_train.tfrecords\",\n",
    "    batch_size=1,\n",
    "    num_epochs=1,\n",
    "    model=\"bdrnn\")"
   ]
  },
  {
   "cell_type": "code",
   "execution_count": null,
   "metadata": {},
   "outputs": [],
   "source": [
    "from lm_pretrain.dataset import create_dataset"
   ]
  },
  {
   "cell_type": "code",
   "execution_count": null,
   "metadata": {},
   "outputs": [],
   "source": [
    "lm_fw_dataset = create_dataset(lm_hparams, tf.contrib.learn.ModeKeys.TRAIN)"
   ]
  },
  {
   "cell_type": "code",
   "execution_count": null,
   "metadata": {},
   "outputs": [],
   "source": []
  }
 ],
 "metadata": {
  "kernelspec": {
   "display_name": "Python 3",
   "language": "python",
   "name": "python3"
  },
  "language_info": {
   "codemirror_mode": {
    "name": "ipython",
    "version": 3
   },
   "file_extension": ".py",
   "mimetype": "text/x-python",
   "name": "python",
   "nbconvert_exporter": "python",
   "pygments_lexer": "ipython3",
   "version": "3.6.5"
  }
 },
 "nbformat": 4,
 "nbformat_minor": 2
}
