{
 "cells": [
  {
   "cell_type": "code",
   "execution_count": 1,
   "metadata": {},
   "outputs": [],
   "source": [
    "import pandas as pd\n",
    "import numpy as np\n",
    "from mi import mutual_info\n",
    "import entropy_estimators as EE\n",
    "from data_loader import load_data"
   ]
  },
  {
   "cell_type": "code",
   "execution_count": 2,
   "metadata": {},
   "outputs": [],
   "source": [
    "import scipy\n",
    "def entropy(x, k=3, base=2):\n",
    "    assert k < x.shape[0] - 1\n",
    "    d = x.shape[1]\n",
    "    N = x.shape[0]\n",
    "    intens = 1e-10\n",
    "    x_ = x + intens*np.random.rand(N, d)\n",
    "    tree = scipy.spatial.cKDTree(x_)\n",
    "    nn = tree.query(x_, k+1, p=float('inf'))[0][:, k]\n",
    "    const = scipy.special.digamma(N) - scipy.special.digamma(k) + d*np.log(2)\n",
    "    return (const + d*np.mean(np.log(nn))) / np.log(base)\n",
    "    \n",
    "def micd(x, y, k=3, base=2, warning=True):\n",
    "    # I(x, y) = H(x) + sum_y p(Y == y) H(x | Y == y)\n",
    "    assert x.shape[0] == y.shape[0]\n",
    "    assert len(y.shape) == 1\n",
    "    overallentropy = entropy(x, k, base)\n",
    "    \n",
    "    classes = np.unique(y)\n",
    "    \n",
    "    mi = overallentropy\n",
    "    for c in range(classes.shape[0]):\n",
    "        x_given_y = x[y == c]\n",
    "        num_c = x_given_y.shape[0]\n",
    "        p_c = num_c/x.shape[0]\n",
    "        if k < num_c:\n",
    "            mi -= p_c * entropy(x_given_y, k, base)\n",
    "        else:\n",
    "            if warning:\n",
    "                print(\"Warning, after condition on y=\", c, \", insufficient data. Assuming maximal entropy.\")\n",
    "            mi -= p_c * overallentropy\n",
    "    return np.abs(mi)\n",
    "\n"
   ]
  },
  {
   "cell_type": "code",
   "execution_count": 3,
   "metadata": {},
   "outputs": [
    {
     "name": "stdout",
     "output_type": "stream",
     "text": [
      "(200173, 13)\n"
     ]
    }
   ],
   "source": [
    "valid = load_data(\"/home/dillon/data/results/elmoSEQ/elmoSEQ_sub1_valid.pkl\")\n",
    "test = load_data(\"/home/dillon/data/results/elmoSEQ/elmoSEQ_sub1_test.pkl\")\n",
    "data = pd.concat([valid, test])\n",
    "print(data.shape)"
   ]
  },
  {
   "cell_type": "code",
   "execution_count": 4,
   "metadata": {},
   "outputs": [
    {
     "name": "stdout",
     "output_type": "stream",
     "text": [
      "(200173, 21)\n",
      "(200173,)\n",
      "(200173, 512)\n"
     ]
    }
   ],
   "source": [
    "pssm = np.concatenate([data.pssm.iloc[i].reshape(1, -1) for i in range(data.shape[0])])\n",
    "print(pssm.shape)\n",
    "ss = np.array(data.ss.apply(np.argmax).values)\n",
    "print(ss.shape)\n",
    "hs = [np.concatenate([data[h_i].iloc[i].reshape(1, -1) for i in range(data.shape[0])]) for h_i in [\"h_0\", \"h_1\", \"h_2\", \"lm_logits\"]]\n",
    "print(hs[0].shape)"
   ]
  },
  {
   "cell_type": "code",
   "execution_count": 5,
   "metadata": {},
   "outputs": [
    {
     "data": {
      "text/plain": [
       "6.495771245700312"
      ]
     },
     "execution_count": 5,
     "metadata": {},
     "output_type": "execute_result"
    }
   ],
   "source": [
    "mi_pssm_ss = micd(pssm, ss)\n",
    "mi_pssm_ss"
   ]
  },
  {
   "cell_type": "code",
   "execution_count": 6,
   "metadata": {},
   "outputs": [
    {
     "data": {
      "text/plain": [
       "1.2591490151685534"
      ]
     },
     "execution_count": 6,
     "metadata": {},
     "output_type": "execute_result"
    }
   ],
   "source": [
    "mi_logits_ss = micd(hs[3], ss)\n",
    "mi_logits_ss"
   ]
  },
  {
   "cell_type": "code",
   "execution_count": null,
   "metadata": {},
   "outputs": [],
   "source": [
    "mi_h0_ss = micd(hs[0], ss)\n",
    "mi_h0_ss"
   ]
  },
  {
   "cell_type": "code",
   "execution_count": null,
   "metadata": {},
   "outputs": [],
   "source": [
    "mi_h1_ss = micd(hs[1], ss)\n",
    "mi_h1_ss"
   ]
  },
  {
   "cell_type": "code",
   "execution_count": null,
   "metadata": {},
   "outputs": [],
   "source": [
    "mi_h2_ss = micd(hs[2], ss)\n",
    "mi_h2_ss"
   ]
  },
  {
   "cell_type": "code",
   "execution_count": null,
   "metadata": {},
   "outputs": [],
   "source": [
    "x = np.random.rand(100, 20)\n",
    "list_x = [list(x[i]) for i in range(x.shape[0])]\n",
    "%timeit EE.entropy(list_x)\n",
    "%timeit entropy(x)"
   ]
  },
  {
   "cell_type": "code",
   "execution_count": null,
   "metadata": {},
   "outputs": [],
   "source": [
    "y = np.random.randint(0, 5, size=100)\n",
    "list_y = [[y[i]] for i in range(y.shape[0])]\n",
    "%timeit EE.micd(list_x, list_y)\n",
    "%timeit micd(x, y)"
   ]
  },
  {
   "cell_type": "code",
   "execution_count": null,
   "metadata": {},
   "outputs": [],
   "source": [
    "h = np.concatenate(hs+[pssm], axis=1)\n",
    "print(h.shape)"
   ]
  },
  {
   "cell_type": "code",
   "execution_count": null,
   "metadata": {},
   "outputs": [],
   "source": [
    "cmi_h_ss_pssm = micd(h, ss) - mi_pssm_ss\n",
    "cmi_h_ss_pssm"
   ]
  },
  {
   "cell_type": "code",
   "execution_count": null,
   "metadata": {},
   "outputs": [],
   "source": []
  }
 ],
 "metadata": {
  "kernelspec": {
   "display_name": "Python 3",
   "language": "python",
   "name": "python3"
  },
  "language_info": {
   "codemirror_mode": {
    "name": "ipython",
    "version": 3
   },
   "file_extension": ".py",
   "mimetype": "text/x-python",
   "name": "python",
   "nbconvert_exporter": "python",
   "pygments_lexer": "ipython3",
   "version": "3.6.6"
  }
 },
 "nbformat": 4,
 "nbformat_minor": 2
}
