{
 "cells": [
  {
   "cell_type": "code",
   "execution_count": 1,
   "metadata": {},
   "outputs": [],
   "source": [
    "import numpy as np\n",
    "import pandas as pd\n",
    "from data_loader import load_data\n",
    "import plotly.offline as py\n",
    "from plots import plot_confusion_matrix\n",
    "from metrics import confusion_matrix"
   ]
  },
  {
   "cell_type": "code",
   "execution_count": 2,
   "metadata": {},
   "outputs": [],
   "source": [
    "# test data files\n",
    "base_fs = [\"/home/dillon/data/results/baseline/base_sub%d_test.pkl\"%(i) for i in range(1, 6)]\n",
    "outSEQ_fs = [\"/home/dillon/data/results/outSEQ/outSEQ_sub%d_test.pkl\"%(i) for i in range(1, 6)]\n",
    "elmoSEQ_fs = [\"/home/dillon/data/results/elmoSEQ/elmoSEQ_sub%d_test.pkl\"%(i) for i in range(1, 6)]\n",
    "ELMOseq_fs = [\"/home/dillon/data/results/ELMOseq/ELMOseq_sub%d_test.pkl\"%(i) for i in range(1, 6)]\n",
    "classes = [\"H\", \"E\", \"L\", \"T\", \"S\", \"G\", \"B\", \"I\"]"
   ]
  },
  {
   "cell_type": "code",
   "execution_count": 3,
   "metadata": {},
   "outputs": [],
   "source": [
    "#base_df = pd.concat([load_data(f)for f in base_fs], ignore_index=True)\n",
    "#base_cm = confusion_matrix(base_df.ss.apply(np.argmax), base_df.logits.apply(np.argmax), classes)\n",
    "#fig = plot_confusion_matrix(\"baseline\", base_cm.values, classes)\n",
    "#py.plot(fig)"
   ]
  },
  {
   "cell_type": "code",
   "execution_count": null,
   "metadata": {},
   "outputs": [],
   "source": [
    "outSEQ_df = pd.concat([load_data(f)for f in outSEQ_fs], ignore_index=True)"
   ]
  },
  {
   "cell_type": "code",
   "execution_count": null,
   "metadata": {},
   "outputs": [],
   "source": [
    "outSEQ_cm = confusion_matrix(outSEQ_df.ss.apply(np.argmax), outSEQ_df.logits.apply(np.argmax), classes)\n",
    "fig = plot_confusion_matrix(\"outSEQ\", outSEQ_cm.values, classes)\n",
    "py.plot(fig)"
   ]
  },
  {
   "cell_type": "code",
   "execution_count": null,
   "metadata": {},
   "outputs": [],
   "source": [
    "elmoSEQ_df = pd.concat([load_data(f)for f in elmoSEQ_fs], ignore_index=True)\n",
    "elmoSEQ_df.shape"
   ]
  },
  {
   "cell_type": "code",
   "execution_count": null,
   "metadata": {},
   "outputs": [],
   "source": [
    "ELMOseq_df = pd.concat([load_data(f)for f in ELMOseq_fs], ignore_index=True)\n",
    "ELMOseq_df.shape"
   ]
  }
 ],
 "metadata": {
  "kernelspec": {
   "display_name": "Python 3",
   "language": "python",
   "name": "python3"
  },
  "language_info": {
   "codemirror_mode": {
    "name": "ipython",
    "version": 3
   },
   "file_extension": ".py",
   "mimetype": "text/x-python",
   "name": "python",
   "nbconvert_exporter": "python",
   "pygments_lexer": "ipython3",
   "version": "3.6.6"
  }
 },
 "nbformat": 4,
 "nbformat_minor": 2
}
